{
 "cells": [
  {
   "attachments": {},
   "cell_type": "markdown",
   "metadata": {},
   "source": [
    "Structure similarity investigation of GDB-13 fragrance-like molecules database \n",
    "Input molecule as SMILES, sort by structural similarity \n",
    "Play around with fingerprint representation \n",
    "Generate structural similarity maps "
   ]
  },
  {
   "cell_type": "code",
   "execution_count": 2,
   "metadata": {},
   "outputs": [],
   "source": [
    "# first attempt - fingerprint similarity comparison, no 3D structure \n",
    "import rdkit\n",
    "from rdkit import Chem\n",
    "from rdkit.Chem.Draw import IPythonConsole\n",
    "from rdkit.Chem import Draw\n",
    "from rdkit.Chem import PandasTools\n",
    "from rdkit.Chem.AllChem import GetMorganFingerprintAsBitVect\n",
    "import pandas as pd"
   ]
  },
  {
   "cell_type": "code",
   "execution_count": 3,
   "metadata": {},
   "outputs": [
    {
     "name": "stdout",
     "output_type": "stream",
     "text": [
      "  Smiles\n",
      "1    C#C\n",
      "2  C1CC1\n"
     ]
    }
   ],
   "source": [
    "# convert SMI to csv - use pandas to convert text file to dataframe \n",
    "column_name=[\"Smiles\"]\n",
    "df = pd.read_csv('/home/martyn0000/fragrance_investigation/GDB-13-FL.smi',\n",
    "                sep='\\r\\n', engine='python', names=column_name\n",
    "                )\n",
    "df = df.iloc[1: , :]\n",
    "print(df.head(2))"
   ]
  },
  {
   "cell_type": "code",
   "execution_count": null,
   "metadata": {},
   "outputs": [],
   "source": [
    "# sanitise input - smiles are canonical, do they need aromatised? "
   ]
  },
  {
   "cell_type": "code",
   "execution_count": 4,
   "metadata": {},
   "outputs": [],
   "source": [
    "# rdkit calculate features - Morgan fingerprint \n",
    " \n",
    "PandasTools.AddMoleculeColumnToFrame(df,'Smiles','molecule',includeFingerprints=True)\n",
    "df['morgan'] = df['molecule'].map(lambda x:GetMorganFingerprintAsBitVect(x,2)) "
   ]
  },
  {
   "cell_type": "code",
   "execution_count": null,
   "metadata": {},
   "outputs": [],
   "source": [
    "print (df.head(2))"
   ]
  },
  {
   "cell_type": "code",
   "execution_count": null,
   "metadata": {},
   "outputs": [],
   "source": [
    "# similarity search of database \n",
    "from rdkit.DataStructs import DataStructs\n",
    "similarity_target=Chem.MolFromSmiles(\"C[C@@]1(C(C)=O)CC=C2CCCC(C)(C)[C@]2(C)[C@H]1C\") \n",
    "def get_dataframe_with_x_most_similar_compounds_to_query(query, mol_df, molCol='molecule', x=int):\n",
    "    query_fp = GetMorganFingerprintAsBitVect(query,2)\n",
    "    mol_df['similarity'] = mol_df['morgan'].map(lambda x:DataStructs.TanimotoSimilarity(query_fp, x))\n",
    "    mol_df.sort_values(['similarity'], ascending=False, inplace=True)\n",
    "    return mol_df[:x].copy()  \n",
    "similarity_df=get_dataframe_with_x_most_similar_compounds_to_query(similarity_target, df, x=50)\n",
    "similarity_df.head()"
   ]
  },
  {
   "cell_type": "code",
   "execution_count": null,
   "metadata": {},
   "outputs": [],
   "source": [
    "# generate similarity maps of most suitable candidates \n",
    "    # get smiles of similar molecules as a list, loop through list making  \n",
    "from rdkit.Chem import Draw \n",
    "from rdkit.Chem.Draw import SimilarityMaps\n",
    "smiles=similarity_df[\"morgan\"].to_list()\n",
    "for similar_structure in list: \n",
    "    fp = SimilarityMaps.GetMorganFingerprint(similar_structure, fpType='bv')\n",
    "    fig, maxweight = SimilarityMaps.GetSimilarityMapForFingerprint(similarity_target, similar_structure, SimilarityMaps.GetMorganFingerprint)"
   ]
  }
 ],
 "metadata": {
  "kernelspec": {
   "display_name": "py310_aisem2023",
   "language": "python",
   "name": "python3"
  },
  "language_info": {
   "codemirror_mode": {
    "name": "ipython",
    "version": 3
   },
   "file_extension": ".py",
   "mimetype": "text/x-python",
   "name": "python",
   "nbconvert_exporter": "python",
   "pygments_lexer": "ipython3",
   "version": "3.10.10"
  },
  "orig_nbformat": 4
 },
 "nbformat": 4,
 "nbformat_minor": 2
}
